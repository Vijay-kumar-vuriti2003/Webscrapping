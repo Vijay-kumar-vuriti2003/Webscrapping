{
  "nbformat": 4,
  "nbformat_minor": 0,
  "metadata": {
    "colab": {
      "provenance": [],
      "toc_visible": true
    },
    "kernelspec": {
      "name": "python3",
      "display_name": "Python 3"
    },
    "language_info": {
      "name": "python"
    }
  },
  "cells": [
    {
      "cell_type": "code",
      "execution_count": 25,
      "metadata": {
        "id": "qIZGn9VEFoe3"
      },
      "outputs": [],
      "source": [
        "# Loading required libraries\n",
        "\n",
        "import numpy as np\n",
        "import pandas as pd\n",
        "\n",
        "import requests\n",
        "from bs4 import BeautifulSoup"
      ]
    },
    {
      "cell_type": "code",
      "source": [
        "# Identify the URL\n",
        "\n",
        "URL = 'https://vijay-kumar-vuriti2003.github.io/Webscrapping/'\n"
      ],
      "metadata": {
        "id": "s9vdrbeqFqtE"
      },
      "execution_count": 26,
      "outputs": []
    },
    {
      "cell_type": "code",
      "source": [
        "# Loading the WebPage in Memory using requests library\n",
        "\n",
        "page = requests.get(URL)"
      ],
      "metadata": {
        "id": "NsSxAJokFqpq"
      },
      "execution_count": 27,
      "outputs": []
    },
    {
      "cell_type": "code",
      "source": [
        "# Check the Status Code of the Page\n",
        "\n",
        "page.status_code"
      ],
      "metadata": {
        "colab": {
          "base_uri": "https://localhost:8080/"
        },
        "id": "XR8TI-MzFqm8",
        "outputId": "e4a73ce3-1954-488d-a88c-99cdf3d4b984"
      },
      "execution_count": 28,
      "outputs": [
        {
          "output_type": "execute_result",
          "data": {
            "text/plain": [
              "200"
            ]
          },
          "metadata": {},
          "execution_count": 28
        }
      ]
    },
    {
      "cell_type": "code",
      "source": [
        "code=page.text\n",
        "soup=BeautifulSoup(code)\n",
        "htmlcode=soup.prettify()\n",
        "print(htmlcode)"
      ],
      "metadata": {
        "colab": {
          "base_uri": "https://localhost:8080/"
        },
        "id": "uQ7xmIM7FqkD",
        "outputId": "929416e3-4bf4-4678-b5d5-e3e62bb5fb6b"
      },
      "execution_count": 29,
      "outputs": [
        {
          "output_type": "stream",
          "name": "stdout",
          "text": [
            "<!DOCTYPE html>\n",
            "<html>\n",
            " <head>\n",
            "  <title>\n",
            "   Web Scraping Practice\n",
            "  </title>\n",
            "  <style>\n",
            "   body {\r\n",
            "            font-family: Arial, sans-serif;\r\n",
            "            margin: 20px;\r\n",
            "            background-color: #f4f4f4;\r\n",
            "        }\r\n",
            "        h2 {\r\n",
            "            color: #333;\r\n",
            "        }\r\n",
            "        .product-container {\r\n",
            "            display: flex;\r\n",
            "            flex-wrap: wrap;\r\n",
            "            gap: 20px;\r\n",
            "        }\r\n",
            "        .product-card {\r\n",
            "            background: white;\r\n",
            "            padding: 15px;\r\n",
            "            border-radius: 8px;\r\n",
            "            box-shadow: 0px 0px 10px rgba(0, 0, 0, 0.1);\r\n",
            "            width: 150px;\r\n",
            "            text-align: center;\r\n",
            "        }\r\n",
            "        .product-card img {\r\n",
            "            width: 150px;\r\n",
            "            height: 150px;\r\n",
            "            border-radius: 5px;\r\n",
            "        }\r\n",
            "        .product-card h3 {\r\n",
            "            margin: 10px 0;\r\n",
            "            font-size: 18px;\r\n",
            "        }\r\n",
            "        .product-card p {\r\n",
            "            margin: 5px 0;\r\n",
            "            font-size: 16px;\r\n",
            "            color: #555;\r\n",
            "        }\n",
            "  </style>\n",
            " </head>\n",
            " <body>\n",
            "  <h2>\n",
            "   Product List\n",
            "  </h2>\n",
            "  <div class=\"product-container\">\n",
            "   <div class=\"product-card\">\n",
            "    <img alt=\"Wings of fire\" src=\"./Wings of fire.webp\"/>\n",
            "    <h3>\n",
            "     Wings of fire\n",
            "    </h3>\n",
            "    <p>\n",
            "     Price: $5.00\n",
            "    </p>\n",
            "    <p>\n",
            "     Stock: 50\n",
            "    </p>\n",
            "   </div>\n",
            "   <div class=\"product-card\">\n",
            "    <img alt=\"Secret of success\" src=\"./Secret of success.jpg\"/>\n",
            "    <h3>\n",
            "     Secret of success\n",
            "    </h3>\n",
            "    <p>\n",
            "     Price: $4.0\n",
            "    </p>\n",
            "    <p>\n",
            "     Stock: 10\n",
            "    </p>\n",
            "   </div>\n",
            "   <div class=\"product-card\">\n",
            "    <img alt=\"5 steps to success\" src=\"./5 steps to success.jpg\"/>\n",
            "    <h3>\n",
            "     5 steps to success\n",
            "    </h3>\n",
            "    <p>\n",
            "     Price: $3.0\n",
            "    </p>\n",
            "    <p>\n",
            "     Stock: 34\n",
            "    </p>\n",
            "   </div>\n",
            "   <div class=\"product-card\">\n",
            "    <img alt=\"Powers of mind\" src=\"./Powers of mind.jpg\"/>\n",
            "    <h3>\n",
            "     Powers of mind\n",
            "    </h3>\n",
            "    <p>\n",
            "     Price: $6.50\n",
            "    </p>\n",
            "    <p>\n",
            "     Stock: 5\n",
            "    </p>\n",
            "   </div>\n",
            "   <div class=\"product-card\">\n",
            "    <img alt=\"Believe in yourself\" src=\"./Believe in yourself.jpg\"/>\n",
            "    <h3>\n",
            "     Believe in yourself\n",
            "    </h3>\n",
            "    <p>\n",
            "     Price: $2.50\n",
            "    </p>\n",
            "    <p>\n",
            "     Stock: 8\n",
            "    </p>\n",
            "   </div>\n",
            "   <div class=\"product-card\">\n",
            "    <img alt=\"My journey\" src=\"./My journey.jpg\"/>\n",
            "    <h3>\n",
            "     My journey\n",
            "    </h3>\n",
            "    <p>\n",
            "     Price: $9.00\n",
            "    </p>\n",
            "    <p>\n",
            "     Stock: 35\n",
            "    </p>\n",
            "   </div>\n",
            "   <div class=\"product-card\">\n",
            "    <img alt=\"Ratan Tata A life\" src=\"./Ratan Tata A life.jpg\"/>\n",
            "    <h3>\n",
            "     Ratan Tata A life\n",
            "    </h3>\n",
            "    <p>\n",
            "     Price: $10.00\n",
            "    </p>\n",
            "    <p>\n",
            "     Stock: 150\n",
            "    </p>\n",
            "   </div>\n",
            "   <div class=\"product-card\">\n",
            "    <img alt=\"Inspiring thoughts\" src=\"./Inspiring thoughts.jpg\"/>\n",
            "    <h3>\n",
            "     Inspiring thoughts\n",
            "    </h3>\n",
            "    <p>\n",
            "     Price: $7.50\n",
            "    </p>\n",
            "    <p>\n",
            "     Stock: 72\n",
            "    </p>\n",
            "   </div>\n",
            "   <div class=\"product-card\">\n",
            "    <img alt=\"Sanathan dharma\" src=\"./Sanathan dharma.jpg\"/>\n",
            "    <h3>\n",
            "     Sanathan dharma\n",
            "    </h3>\n",
            "    <p>\n",
            "     Price: $4.75\n",
            "    </p>\n",
            "    <p>\n",
            "     Stock: 20\n",
            "    </p>\n",
            "   </div>\n",
            "  </div>\n",
            " </body>\n",
            "</html>\n",
            "\n"
          ]
        }
      ]
    },
    {
      "cell_type": "code",
      "source": [
        "content =soup.find('div', attrs={'class':'product-container'})\n",
        "text=content.text.strip()\n",
        "print(text)"
      ],
      "metadata": {
        "colab": {
          "base_uri": "https://localhost:8080/"
        },
        "id": "CbjMv7IqFqg5",
        "outputId": "60229d63-826b-4680-9ff9-27caab24f466"
      },
      "execution_count": 30,
      "outputs": [
        {
          "output_type": "stream",
          "name": "stdout",
          "text": [
            "Wings of fire\n",
            "Price: $5.00\n",
            "Stock: 50\n",
            "\n",
            "\n",
            "\n",
            "Secret of success\n",
            "Price: $4.0\n",
            "Stock: 10\n",
            "\n",
            "\n",
            "\n",
            "5 steps to success\n",
            "Price: $3.0\n",
            "Stock: 34\n",
            "\n",
            "\n",
            "\n",
            "Powers of mind\n",
            "Price: $6.50\n",
            "Stock: 5\n",
            "\n",
            "\n",
            "\n",
            "Believe in yourself\n",
            "Price: $2.50\n",
            "Stock: 8\n",
            "\n",
            "\n",
            "\n",
            "My journey\n",
            "Price: $9.00\n",
            "Stock: 35\n",
            "\n",
            "\n",
            "\n",
            "Ratan Tata A life\n",
            "Price: $10.00\n",
            "Stock: 150\n",
            "\n",
            "\n",
            "\n",
            "Inspiring thoughts\n",
            "Price: $7.50\n",
            "Stock: 72\n",
            "\n",
            "\n",
            "\n",
            "Sanathan dharma\n",
            "Price: $4.75\n",
            "Stock: 20\n"
          ]
        }
      ]
    },
    {
      "cell_type": "code",
      "source": [
        "content =soup.find('div', attrs={'class':'product-container'})\n",
        "text=content.text\n",
        "#print(text)\n",
        "r1=text.split(\"\\n\")\n",
        "# print(r1)\n",
        "r2=[]\n",
        "for i in r1:\n",
        "   if i!='' and i!='\\r':\n",
        "     r2.append(i)\n",
        "# print(r2)\n",
        "r3=[]\n",
        "for i in r2:\n",
        "   k=i.strip()\n",
        "   r3.append(k)\n",
        "# print(r3)\n",
        "r4=[]\n",
        "for i in r3:\n",
        "  if i!='' and i!='\\r':\n",
        "    r4.append(i)\n",
        "# print(r4)\n",
        "names=[]\n",
        "prices=[]\n",
        "stock=[]\n",
        "for i in range(0,len(r4),3):\n",
        "   names.append(r4[i])\n",
        "   x=r4[i+1].replace(\"Price:\",\"\")\n",
        "   x=x.strip()\n",
        "\n",
        "   prices.append(x)\n",
        "   y=r4[i+2].replace(\"Stock:\",\"\")\n",
        "   y=y.strip()\n",
        "   stock.append(y)\n",
        "\n",
        "print(names)\n",
        "print(prices)\n",
        "print(stock)\n",
        "\n",
        "\n",
        "df=pd.DataFrame({'Book Name':names,'Price':prices,'Stock':stock})\n",
        "print(df)"
      ],
      "metadata": {
        "colab": {
          "base_uri": "https://localhost:8080/"
        },
        "id": "MgD7GmQbFqeA",
        "outputId": "98b3d328-44ac-4368-cbab-a89f59ebd078"
      },
      "execution_count": 31,
      "outputs": [
        {
          "output_type": "stream",
          "name": "stdout",
          "text": [
            "['Wings of fire', 'Secret of success', '5 steps to success', 'Powers of mind', 'Believe in yourself', 'My journey', 'Ratan Tata A life', 'Inspiring thoughts', 'Sanathan dharma']\n",
            "['$5.00', '$4.0', '$3.0', '$6.50', '$2.50', '$9.00', '$10.00', '$7.50', '$4.75']\n",
            "['50', '10', '34', '5', '8', '35', '150', '72', '20']\n",
            "             Book Name   Price Stock\n",
            "0        Wings of fire   $5.00    50\n",
            "1    Secret of success    $4.0    10\n",
            "2   5 steps to success    $3.0    34\n",
            "3       Powers of mind   $6.50     5\n",
            "4  Believe in yourself   $2.50     8\n",
            "5           My journey   $9.00    35\n",
            "6    Ratan Tata A life  $10.00   150\n",
            "7   Inspiring thoughts   $7.50    72\n",
            "8      Sanathan dharma   $4.75    20\n"
          ]
        }
      ]
    },
    {
      "cell_type": "code",
      "source": [
        "df.to_csv('products.csv',header=True,index=False)"
      ],
      "metadata": {
        "id": "rwK2WWLYFqa9"
      },
      "execution_count": 32,
      "outputs": []
    }
  ]
}